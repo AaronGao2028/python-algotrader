{
 "cells": [
  {
   "cell_type": "code",
   "execution_count": 3,
   "id": "a033d640-3c10-458d-9b82-a96e4f8a9683",
   "metadata": {},
   "outputs": [],
   "source": [
    "import pandas as pd \n",
    "import matplotlib.pyplot as plt \n",
    "import yfinance as yf\n",
    "import matplotlib.pyplot as plt\n",
    "from prettytable import PrettyTable"
   ]
  },
  {
   "cell_type": "code",
   "execution_count": 9,
   "id": "3471335f-2f15-41c8-b518-0eba3b6a237a",
   "metadata": {},
   "outputs": [],
   "source": [
    "# Python AlgoTrader analyzes historical stock data and uses the intersection of moving averages to determine the entry and exit of a position. A table of dates and an accompanying chart are generated, presenting both the date and corresponding entry or exit prices."
   ]
  },
  {
   "cell_type": "code",
   "execution_count": 7,
   "id": "ea2796d4-3e02-453a-88d9-b7e7a9e8d72b",
   "metadata": {},
   "outputs": [
    {
     "data": {
      "text/plain": [
       "'generated, presenting both the date and corresponding entry or exit prices.'"
      ]
     },
     "execution_count": 7,
     "metadata": {},
     "output_type": "execute_result"
    }
   ],
   "source": []
  },
  {
   "cell_type": "code",
   "execution_count": null,
   "id": "38711204-732e-4669-a06d-16654c96466a",
   "metadata": {},
   "outputs": [],
   "source": []
  },
  {
   "cell_type": "code",
   "execution_count": null,
   "id": "7c24aea9-173a-4e3d-b7a6-e70289c6d6e4",
   "metadata": {},
   "outputs": [],
   "source": []
  },
  {
   "cell_type": "code",
   "execution_count": null,
   "id": "49f4d5cc-0f99-4eda-b10a-ef7a2610fd75",
   "metadata": {},
   "outputs": [],
   "source": []
  }
 ],
 "metadata": {
  "kernelspec": {
   "display_name": "Python 3 (ipykernel)",
   "language": "python",
   "name": "python3"
  },
  "language_info": {
   "codemirror_mode": {
    "name": "ipython",
    "version": 3
   },
   "file_extension": ".py",
   "mimetype": "text/x-python",
   "name": "python",
   "nbconvert_exporter": "python",
   "pygments_lexer": "ipython3",
   "version": "3.12.1"
  }
 },
 "nbformat": 4,
 "nbformat_minor": 5
}
