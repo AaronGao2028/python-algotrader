{
 "cells": [
  {
   "cell_type": "code",
   "execution_count": 1,
   "id": "38711204-732e-4669-a06d-16654c96466a",
   "metadata": {},
   "outputs": [],
   "source": [
    "import pandas as pd \n",
    "import matplotlib.pyplot as plt \n",
    "import yfinance as yf\n",
    "import matplotlib.pyplot as plt\n",
    "from prettytable import PrettyTable"
   ]
  },
  {
   "cell_type": "markdown",
   "id": "8593a096-8ebf-4d95-8db9-ef767bb09d87",
   "metadata": {},
   "source": [
    "Python AlgoTrader analyzes historical stock data and uses the intersection of moving averages to determine the \n",
    "entry and exit of a position. A table of dates and an accompanying chart are generated, presenting both the date \n",
    "and corresponding entry or exit prices. For this example, I used PayPal (PYPL) as a sample stock for presentation."
   ]
  },
  {
   "cell_type": "code",
   "execution_count": 2,
   "id": "968519a5-fa33-41b8-98c3-e782d126ba8e",
   "metadata": {},
   "outputs": [],
   "source": [
    "long_MA_duration = 200\n",
    "short_MA_duration = 20\n",
    "long_MA = 0\n",
    "short_MA = 0\n",
    "long_MA_arr = []\n",
    "short_MA_arr = []\n",
    "long_MA_dates = []\n",
    "short_MA_dates = []\n",
    "crossover_dates = []\n",
    "crossover_price = []\n",
    "crossover_action = []\n",
    "wealth = 1000\n",
    "num_stock = 0\n",
    "stock = 'PYPL'\n",
    "start_date =  '2015-01-01'\n",
    "end_date = '2023-01-01'\n",
    "interval = '1d'\n",
    "profit = 0\n",
    "day = 0\n",
    "previous = \"below\"\n",
    "table = PrettyTable([\"Date\", \"# of Shares\", \"Wealth ($)\", \"Action\"])"
   ]
  },
  {
   "cell_type": "markdown",
   "id": "d3f55aea-59c4-4735-baee-a7d0671e5fd5",
   "metadata": {},
   "source": [
    "The Long Term Moving Average used is 200 days and Short Term Moving Average used is 20 days. This presents a clear and effective way to track\n",
    "when a stock is above or below its historical patterns."
   ]
  },
  {
   "cell_type": "code",
   "execution_count": null,
   "id": "e5c8be17-0985-4134-957d-5d934cb8bf0a",
   "metadata": {},
   "outputs": [],
   "source": [
    "yf.pdr_override()\n",
    "df = yf.download(tickers=stock, start=start_date, end=end_date, interval=interval)\n",
    "df.reset_index(inplace=True) \n",
    "df['date'] = df['Date'].dt.date"
   ]
  },
  {
   "cell_type": "markdown",
   "id": "91e234b0-a2f0-45d1-a953-8bc25ada6f14",
   "metadata": {},
   "source": [
    "Get stock data from the Yahoo Finance API using the yfinance library in Python."
   ]
  },
  {
   "cell_type": "code",
   "execution_count": null,
   "id": "5764e2b3-1a4b-4452-87e7-6c99b168ecaa",
   "metadata": {},
   "outputs": [],
   "source": [
    "for i in range (len (df)):\n",
    "    price = df.loc[i, \"Open\"]\n",
    "    date = df.loc[i, \"Date\"]\n",
    "    \n",
    "    long_MA += price/long_MA_duration\n",
    "    short_MA += price/short_MA_duration\n",
    "    \n",
    "    day += 1\n",
    "    \n",
    "    if (day > long_MA_duration):\n",
    "        long_MA -= df.loc[i-long_MA_duration, \"Open\"]/long_MA_duration\n",
    "    if (day > short_MA_duration):\n",
    "        short_MA -= df.loc[i-short_MA_duration, \"Open\"]/short_MA_duration\n",
    "    \n",
    "    if (day > short_MA_duration):\n",
    "        short_MA_dates.append(date)   \n",
    "        short_MA_arr.append(short_MA)   \n",
    "\n",
    "    if (day > long_MA_duration): \n",
    "        long_MA_arr.append(long_MA)\n",
    "        long_MA_dates.append(date)    \n",
    "             \n",
    "        # If the 20 day moving average crosses below the 200 day moving average,\n",
    "        # the stocks will be sold\n",
    "        if (short_MA < long_MA and previous == \"above\"):\n",
    "            crossover_dates.append(date)\n",
    "            crossover_price.append(price)\n",
    "            crossover_action.append(\"Sell\")\n",
    "            wealth = num_stock * price\n",
    "            num_stock = 0                \n",
    "            table.add_row([date, round(num_stock, 2), round(wealth, 2), \"Sell\"])\n",
    "            previous = \"below\"\n",
    "            \n",
    "        # If the 20 day moving average crosses above the 200 day moving average,\n",
    "        # the stocks will be bought\n",
    "        if (short_MA > long_MA and previous == \"below\"):\n",
    "            crossover_dates.append(date)\n",
    "            crossover_price.append(price)\n",
    "            crossover_action.append(\"Buy\")\n",
    "            num_stock = wealth / price\n",
    "            wealth = 0              \n",
    "            table.add_row([df.loc[i, \"Date\"], round(num_stock, 2), round(wealth, 2), \"Buy\"])\n",
    "            previous = \"above\""
   ]
  },
  {
   "cell_type": "code",
   "execution_count": null,
   "id": "377d98f9-0f08-4382-87ef-3bec907c3141",
   "metadata": {},
   "outputs": [],
   "source": [
    "This represents the bulk of the trading algorithm. As the program goes through all the historical data, it keeps track of the \n",
    "relative position between the 20 Day MA and the 200 Day MA. When the 20 Day MA crosses over the 200 Day MA from below to above, \n",
    "the algorithm sells all the stocks it is currently holding. The logic behind this is that the short term gains have exceeded\n",
    "the long term stability of the stock and it is a good team to reap the rewards before the market balances itself once more. Similarly,\n",
    "when the 20 Day MA crosses over the 200 Day MA from above to below, the algorithm converts all the capital into stock holding as\n",
    "the current stock price is below its historical value."
   ]
  },
  {
   "cell_type": "code",
   "execution_count": null,
   "id": "4c5b5e5c-0405-4c6b-ab21-588d45c25b66",
   "metadata": {},
   "outputs": [],
   "source": [
    "if (wealth == 0):\n",
    "    wealth = num_stock * df.loc[len(df)-1, \"Close\"]\n",
    "    table.add_row(df.loc[i, \"Date\"], round(num_stock, 2), round(wealth, 2), \"Sell\")"
   ]
  },
  {
   "cell_type": "code",
   "execution_count": null,
   "id": "953f80b5-04e6-4a4d-b2a6-093d87150e7b",
   "metadata": {},
   "outputs": [],
   "source": [
    "The algorithm will empty the portfolio is their are still stocks remaining."
   ]
  },
  {
   "cell_type": "code",
   "execution_count": null,
   "id": "931c223d-a91a-4b02-a0d3-69ce85344bf7",
   "metadata": {},
   "outputs": [],
   "source": [
    "profit = wealth - 1000\n",
    "\n",
    "print (table)\n",
    "print (\"TOTAL\")\n",
    "print (\"FROM\", start_date, end_date)\n",
    "print (\"WEALTH =\", round(wealth, 2))\n",
    "print (\"PROFIT =\", round(profit, 2))"
   ]
  },
  {
   "cell_type": "markdown",
   "id": "32003571-6508-4958-a065-d8c39ce880b8",
   "metadata": {},
   "source": [
    "The profit over time is calculated and printed onto the screen. Similarly, a table representing the optimal entry and exit points\n",
    "is also listed."
   ]
  },
  {
   "cell_type": "code",
   "execution_count": null,
   "id": "395ec701-205a-473b-bd0e-25043b508137",
   "metadata": {},
   "outputs": [],
   "source": [
    "plt.title(\"Chart of Price + Moving Averages\")\n",
    "plt.plot(df[\"Date\"], df[\"Open\"], label = \"Stock Price\")\n",
    "plt.plot(long_MA_dates, long_MA_arr, label = \"200 Day Moving Average\")\n",
    "plt.plot(short_MA_dates, short_MA_arr, label = \"20 Day Moving Average\")\n",
    "plt.plot(crossover_dates, crossover_price, \"ro\")\n",
    "for i in range (len (crossover_dates)):\n",
    "    plt.annotate(crossover_action[i], \n",
    "                 (crossover_dates[i],crossover_price[i]), \n",
    "                 textcoords=\"offset points\",\n",
    "                 xytext=(0,20),\n",
    "                 ha='center') \n",
    "plt.xlabel(\"Date\")\n",
    "plt.ylabel(\"Price ($)\") \n",
    "plt.legend([\"Price\", \"200 Day MA\", \"20 Day MA\"], loc =\"lower right\") \n",
    "plt.plot()\n",
    "\n",
    "plt.show()"
   ]
  },
  {
   "cell_type": "markdown",
   "id": "a61df4ef-126a-4ad7-855c-85c21c4672ec",
   "metadata": {},
   "source": [
    "Finally, the information is also displayed onto a graph, giving a visual depiction of the optimal dates to buy and sell a position."
   ]
  },
  {
   "cell_type": "raw",
   "id": "571a0a88-c2f8-4216-9bdd-277b7bcfc679",
   "metadata": {},
   "source": []
  }
 ],
 "metadata": {
  "kernelspec": {
   "display_name": "Python 3 (ipykernel)",
   "language": "python",
   "name": "python3"
  },
  "language_info": {
   "codemirror_mode": {
    "name": "ipython",
    "version": 3
   },
   "file_extension": ".py",
   "mimetype": "text/x-python",
   "name": "python",
   "nbconvert_exporter": "python",
   "pygments_lexer": "ipython3",
   "version": "3.12.1"
  }
 },
 "nbformat": 4,
 "nbformat_minor": 5
}
